{
 "cells": [
  {
   "cell_type": "code",
   "execution_count": 41,
   "metadata": {
    "collapsed": false
   },
   "outputs": [
    {
     "data": {
      "text/html": [
       "<ol class=list-inline>\n",
       "\t<li>'adist_distance'</li>\n",
       "\t<li>'canberra_distance'</li>\n",
       "\t<li>'euclid_distance'</li>\n",
       "\t<li>'manhattan_distance'</li>\n",
       "\t<li>'mse_distance'</li>\n",
       "\t<li>'pearson_distance'</li>\n",
       "</ol>\n"
      ],
      "text/latex": [
       "\\begin{enumerate*}\n",
       "\\item 'adist\\_distance'\n",
       "\\item 'canberra\\_distance'\n",
       "\\item 'euclid\\_distance'\n",
       "\\item 'manhattan\\_distance'\n",
       "\\item 'mse\\_distance'\n",
       "\\item 'pearson\\_distance'\n",
       "\\end{enumerate*}\n"
      ],
      "text/markdown": [
       "1. 'adist_distance'\n",
       "2. 'canberra_distance'\n",
       "3. 'euclid_distance'\n",
       "4. 'manhattan_distance'\n",
       "5. 'mse_distance'\n",
       "6. 'pearson_distance'\n",
       "\n",
       "\n"
      ],
      "text/plain": [
       "[1] \"adist_distance\"     \"canberra_distance\"  \"euclid_distance\"   \n",
       "[4] \"manhattan_distance\" \"mse_distance\"       \"pearson_distance\"  "
      ]
     },
     "metadata": {},
     "output_type": "display_data"
    }
   ],
   "source": [
    "dir(path=\".\", pattern=\"_distance\")"
   ]
  },
  {
   "cell_type": "code",
   "execution_count": 202,
   "metadata": {
    "collapsed": false,
    "scrolled": false
   },
   "outputs": [
    {
     "data": {
      "image/png": "[encoded data removed]",
      "text/plain": [
       "Plot with title “mse_Sicut Oculi.csv”"
      ]
     },
     "metadata": {},
     "output_type": "display_data"
    }
   ],
   "source": [
    "library(ggplot2)\n",
    "library(grid)\n",
    "library(lattice)\n",
    "library(gridExtra)\n",
    "\n",
    "list <- dir(path=\".\", pattern= \"_distance\")\n",
    "\n",
    "#jpeg('mdsplot.jpg')\n",
    "par(mfcol=c(6,5), cex =0.3, mar = c(1,1,1,1), pin = c(1,1), omi= c(0,0,0,0))\n",
    "for(i in 1:(length(list)-1)){\n",
    "    path = paste(list[i] ,\"/\", sep=\"\")\n",
    "    file.names = dir(path, pattern = \".csv\") \n",
    "    for(i in 1:(length(file.names))){\n",
    "        file = read.table(paste(path,file.names[i],sep=\"\"),header = TRUE)\n",
    "        mds <- cmdscale(file, k=2) \n",
    "        graph <- plot(mds[,1], mds[,2], xlab = \"\", ylab = \"\", pch = \".\", axes = FALSE,main = (paste(file.names[i])))\n",
    "        #main = (paste(file.names[i]))\n",
    "        text(mds[,1], mds[,2], labels=names(file), cex = 0.6,xpd = TRUE, pos=4+ runif(1,0,1))\n",
    "    }\n",
    "}\n",
    "#dev.off()\n",
    "\n",
    "#Dominusmatrix <- read.table(\"manhattan_distance/manhattan_dominusData.csv\", header = TRUE)\n",
    "#mds <- cmdscale(Dominusmatrix, k=2)\n",
    "#plot(mds[,1], mds[,2], type = \"n\", xlab = \"\", ylab = \"\", axes = FALSE, main = \"MDS\")\n",
    "#text(mds[,1], mds[,2], labels=c(\"Aqu\",\"Ger1\",\"Sens\", \"Arne\", \"Nev\", \"Gai\", \"MCa\", \"Rome2\", \"Rome3\", \"VimA\"), cex = 0.9,xpd = TRUE)\n",
    "\n",
    "\n"
   ]
  },
  {
   "cell_type": "code",
   "execution_count": 123,
   "metadata": {
    "collapsed": false
   },
   "outputs": [
    {
     "data": {
      "text/html": [
       "<ol class=list-inline>\n",
       "\t<li>'adist_Benedicite Dominum.csv'</li>\n",
       "\t<li>'adist_Dominus Dixit.csv'</li>\n",
       "\t<li>'adist_Factus Est.csv'</li>\n",
       "\t<li>'adist_LexDomini.csv'</li>\n",
       "\t<li>'adist_Rorate.csv'</li>\n",
       "\t<li>'adist_Sicut Oculi.csv'</li>\n",
       "</ol>\n"
      ],
      "text/latex": [
       "\\begin{enumerate*}\n",
       "\\item 'adist\\_Benedicite Dominum.csv'\n",
       "\\item 'adist\\_Dominus Dixit.csv'\n",
       "\\item 'adist\\_Factus Est.csv'\n",
       "\\item 'adist\\_LexDomini.csv'\n",
       "\\item 'adist\\_Rorate.csv'\n",
       "\\item 'adist\\_Sicut Oculi.csv'\n",
       "\\end{enumerate*}\n"
      ],
      "text/markdown": [
       "1. 'adist_Benedicite Dominum.csv'\n",
       "2. 'adist_Dominus Dixit.csv'\n",
       "3. 'adist_Factus Est.csv'\n",
       "4. 'adist_LexDomini.csv'\n",
       "5. 'adist_Rorate.csv'\n",
       "6. 'adist_Sicut Oculi.csv'\n",
       "\n",
       "\n"
      ],
      "text/plain": [
       "[1] \"adist_Benedicite Dominum.csv\" \"adist_Dominus Dixit.csv\"     \n",
       "[3] \"adist_Factus Est.csv\"         \"adist_LexDomini.csv\"         \n",
       "[5] \"adist_Rorate.csv\"             \"adist_Sicut Oculi.csv\"       "
      ]
     },
     "metadata": {},
     "output_type": "display_data"
    }
   ],
   "source": [
    "dir(path, pattern = \".csv\") "
   ]
  },
  {
   "cell_type": "code",
   "execution_count": 59,
   "metadata": {
    "collapsed": false
   },
   "outputs": [
    {
     "data": {
      "text/html": [
       "<dl class=dl-horizontal>\n",
       "\t<dt>Aqu</dt>\n",
       "\t\t<dd>-0.0756463692734669</dd>\n",
       "\t<dt>Ger1</dt>\n",
       "\t\t<dd>-0.0385121186651305</dd>\n",
       "\t<dt>Dij</dt>\n",
       "\t\t<dd>-0.0327583267004188</dd>\n",
       "\t<dt>Sens</dt>\n",
       "\t\t<dd>-0.123320654900285</dd>\n",
       "\t<dt>Nev</dt>\n",
       "\t\t<dd>-0.0776499178495853</dd>\n",
       "\t<dt>Che</dt>\n",
       "\t\t<dd>-0.11209778344772</dd>\n",
       "\t<dt>Gai</dt>\n",
       "\t\t<dd>-0.0694547915653287</dd>\n",
       "\t<dt>MCa</dt>\n",
       "\t\t<dd>-0.0535177305460302</dd>\n",
       "\t<dt>Rome3</dt>\n",
       "\t\t<dd>0.584515290449176</dd>\n",
       "\t<dt>VimA</dt>\n",
       "\t\t<dd>-0.00155759750121034</dd>\n",
       "</dl>\n"
      ],
      "text/latex": [
       "\\begin{description*}\n",
       "\\item[Aqu] -0.0756463692734669\n",
       "\\item[Ger1] -0.0385121186651305\n",
       "\\item[Dij] -0.0327583267004188\n",
       "\\item[Sens] -0.123320654900285\n",
       "\\item[Nev] -0.0776499178495853\n",
       "\\item[Che] -0.11209778344772\n",
       "\\item[Gai] -0.0694547915653287\n",
       "\\item[MCa] -0.0535177305460302\n",
       "\\item[Rome3] 0.584515290449176\n",
       "\\item[VimA] -0.00155759750121034\n",
       "\\end{description*}\n"
      ],
      "text/markdown": [
       "Aqu\n",
       ":   -0.0756463692734669Ger1\n",
       ":   -0.0385121186651305Dij\n",
       ":   -0.0327583267004188Sens\n",
       ":   -0.123320654900285Nev\n",
       ":   -0.0776499178495853Che\n",
       ":   -0.11209778344772Gai\n",
       ":   -0.0694547915653287MCa\n",
       ":   -0.0535177305460302Rome3\n",
       ":   0.584515290449176VimA\n",
       ":   -0.00155759750121034\n",
       "\n"
      ],
      "text/plain": [
       "         Aqu         Ger1          Dij         Sens          Nev          Che \n",
       "-0.075646369 -0.038512119 -0.032758327 -0.123320655 -0.077649918 -0.112097783 \n",
       "         Gai          MCa        Rome3         VimA \n",
       "-0.069454792 -0.053517731  0.584515290 -0.001557598 "
      ]
     },
     "metadata": {},
     "output_type": "display_data"
    }
   ],
   "source": [
    "mds[,1]"
   ]
  },
  {
   "cell_type": "code",
   "execution_count": 60,
   "metadata": {
    "collapsed": false
   },
   "outputs": [
    {
     "data": {
      "text/html": [
       "<dl class=dl-horizontal>\n",
       "\t<dt>Aqu</dt>\n",
       "\t\t<dd>0.0872258473532208</dd>\n",
       "\t<dt>Ger1</dt>\n",
       "\t\t<dd>0.0817370086439961</dd>\n",
       "\t<dt>Dij</dt>\n",
       "\t\t<dd>0.0506622324953286</dd>\n",
       "\t<dt>Sens</dt>\n",
       "\t\t<dd>0.0064041626790351</dd>\n",
       "\t<dt>Nev</dt>\n",
       "\t\t<dd>0.00411899095220137</dd>\n",
       "\t<dt>Che</dt>\n",
       "\t\t<dd>0.0496479512646064</dd>\n",
       "\t<dt>Gai</dt>\n",
       "\t\t<dd>0.0357675134300538</dd>\n",
       "\t<dt>MCa</dt>\n",
       "\t\t<dd>0.0699263169812724</dd>\n",
       "\t<dt>Rome3</dt>\n",
       "\t\t<dd>0.0404504444804447</dd>\n",
       "\t<dt>VimA</dt>\n",
       "\t\t<dd>-0.42594046828016</dd>\n",
       "</dl>\n"
      ],
      "text/latex": [
       "\\begin{description*}\n",
       "\\item[Aqu] 0.0872258473532208\n",
       "\\item[Ger1] 0.0817370086439961\n",
       "\\item[Dij] 0.0506622324953286\n",
       "\\item[Sens] 0.0064041626790351\n",
       "\\item[Nev] 0.00411899095220137\n",
       "\\item[Che] 0.0496479512646064\n",
       "\\item[Gai] 0.0357675134300538\n",
       "\\item[MCa] 0.0699263169812724\n",
       "\\item[Rome3] 0.0404504444804447\n",
       "\\item[VimA] -0.42594046828016\n",
       "\\end{description*}\n"
      ],
      "text/markdown": [
       "Aqu\n",
       ":   0.0872258473532208Ger1\n",
       ":   0.0817370086439961Dij\n",
       ":   0.0506622324953286Sens\n",
       ":   0.0064041626790351Nev\n",
       ":   0.00411899095220137Che\n",
       ":   0.0496479512646064Gai\n",
       ":   0.0357675134300538MCa\n",
       ":   0.0699263169812724Rome3\n",
       ":   0.0404504444804447VimA\n",
       ":   -0.42594046828016\n",
       "\n"
      ],
      "text/plain": [
       "         Aqu         Ger1          Dij         Sens          Nev          Che \n",
       " 0.087225847  0.081737009  0.050662232  0.006404163  0.004118991  0.049647951 \n",
       "         Gai          MCa        Rome3         VimA \n",
       " 0.035767513  0.069926317  0.040450444 -0.425940468 "
      ]
     },
     "metadata": {},
     "output_type": "display_data"
    }
   ],
   "source": [
    "mds[,2]"
   ]
  },
  {
   "cell_type": "code",
   "execution_count": 83,
   "metadata": {
    "collapsed": false
   },
   "outputs": [
    {
     "data": {
      "text/html": [
       "<ol class=list-inline>\n",
       "\t<li>'mse_Benedicite Dominum.csv'</li>\n",
       "\t<li>'mse_Dominus Dixit.csv'</li>\n",
       "\t<li>'mse_Factus Est.csv'</li>\n",
       "\t<li>'mse_LexDomini.csv'</li>\n",
       "\t<li>'mse_Rorate.csv'</li>\n",
       "\t<li>'mse_Sicut Oculi.csv'</li>\n",
       "</ol>\n"
      ],
      "text/latex": [
       "\\begin{enumerate*}\n",
       "\\item 'mse\\_Benedicite Dominum.csv'\n",
       "\\item 'mse\\_Dominus Dixit.csv'\n",
       "\\item 'mse\\_Factus Est.csv'\n",
       "\\item 'mse\\_LexDomini.csv'\n",
       "\\item 'mse\\_Rorate.csv'\n",
       "\\item 'mse\\_Sicut Oculi.csv'\n",
       "\\end{enumerate*}\n"
      ],
      "text/markdown": [
       "1. 'mse_Benedicite Dominum.csv'\n",
       "2. 'mse_Dominus Dixit.csv'\n",
       "3. 'mse_Factus Est.csv'\n",
       "4. 'mse_LexDomini.csv'\n",
       "5. 'mse_Rorate.csv'\n",
       "6. 'mse_Sicut Oculi.csv'\n",
       "\n",
       "\n"
      ],
      "text/plain": [
       "[1] \"mse_Benedicite Dominum.csv\" \"mse_Dominus Dixit.csv\"     \n",
       "[3] \"mse_Factus Est.csv\"         \"mse_LexDomini.csv\"         \n",
       "[5] \"mse_Rorate.csv\"             \"mse_Sicut Oculi.csv\"       "
      ]
     },
     "metadata": {},
     "output_type": "display_data"
    }
   ],
   "source": [
    "file.names"
   ]
  },
  {
   "cell_type": "code",
   "execution_count": 180,
   "metadata": {
    "collapsed": false
   },
   "outputs": [
    {
     "data": {
      "image/png": "[encoded data removed]",
      "text/plain": [
       "Plot with title “mse_Sicut Oculi.csv”"
      ]
     },
     "metadata": {},
     "output_type": "display_data"
    }
   ],
   "source": [
    "    file = read.table(file ='mse_distance/mse_Benedicite Dominum.csv',header = TRUE)\n",
    "    mds <- cmdscale(file, k=2) \n",
    "    graph <- plot(mds[,1], mds[,2], xlab = \"\", ylab = \"\", pch = \".\", axes = FALSE,main = (paste(file.names[i])))\n",
    "    text(mds[,1], mds[,2], labels=names(file), cex = 0.6,xpd = TRUE, pos=4+ runif(1,0,1))"
   ]
  },
  {
   "cell_type": "code",
   "execution_count": 183,
   "metadata": {
    "collapsed": false
   },
   "outputs": [
    {
     "data": {
      "text/html": [
       "<ol class=list-inline>\n",
       "\t<li>'adist_distance'</li>\n",
       "\t<li>'canberra_distance'</li>\n",
       "\t<li>'euclid_distance'</li>\n",
       "\t<li>'manhattan_distance'</li>\n",
       "\t<li>'mse_distance'</li>\n",
       "\t<li>'pearson_distance'</li>\n",
       "</ol>\n"
      ],
      "text/latex": [
       "\\begin{enumerate*}\n",
       "\\item 'adist\\_distance'\n",
       "\\item 'canberra\\_distance'\n",
       "\\item 'euclid\\_distance'\n",
       "\\item 'manhattan\\_distance'\n",
       "\\item 'mse\\_distance'\n",
       "\\item 'pearson\\_distance'\n",
       "\\end{enumerate*}\n"
      ],
      "text/markdown": [
       "1. 'adist_distance'\n",
       "2. 'canberra_distance'\n",
       "3. 'euclid_distance'\n",
       "4. 'manhattan_distance'\n",
       "5. 'mse_distance'\n",
       "6. 'pearson_distance'\n",
       "\n",
       "\n"
      ],
      "text/plain": [
       "[1] \"adist_distance\"     \"canberra_distance\"  \"euclid_distance\"   \n",
       "[4] \"manhattan_distance\" \"mse_distance\"       \"pearson_distance\"  "
      ]
     },
     "metadata": {},
     "output_type": "display_data"
    }
   ],
   "source": [
    "list"
   ]
  },
  {
   "cell_type": "code",
   "execution_count": 201,
   "metadata": {
    "collapsed": false
   },
   "outputs": [
    {
     "data": {
      "image/png": "[encoded data removed]",
      "text/plain": [
       "Plot with title “mse_Rorate.csv”"
      ]
     },
     "metadata": {},
     "output_type": "display_data"
    }
   ],
   "source": [
    "\n",
    "list <- dir(path=\".\", pattern= \"_distance\")\n",
    "\n",
    "par(mfcol=c(1,5), cex =0.2, mar = c(2,2,2,2), pin = c(1.2,1))\n",
    "for(i in 1:(length(list)-1)){\n",
    "            file = read.table(file ='mse_distance/mse_Benedicite Dominum.csv',header = TRUE)\n",
    "        mds <- cmdscale(file, k=2) \n",
    "        graph <- plot(mds[,1], mds[,2], xlab = \"\", ylab = \"\", pch = \".\", axes = FALSE,main = (paste(file.names[i])))\n",
    "        #main = (paste(file.names[i]))\n",
    "        text(mds[,1], mds[,2], labels=names(file), cex = 0.6,xpd = TRUE, pos=4+ runif(1,0,1))\n",
    "    }\n",
    "\n"
   ]
  },
  {
   "cell_type": "code",
   "execution_count": null,
   "metadata": {
    "collapsed": true
   },
   "outputs": [],
   "source": []
  }
 ],
 "metadata": {
  "kernelspec": {
   "display_name": "R",
   "language": "R",
   "name": "ir"
  },
  "language_info": {
   "codemirror_mode": "r",
   "file_extension": ".r",
   "mimetype": "text/x-r-source",
   "name": "R",
   "pygments_lexer": "r",
   "version": "3.4.2"
  }
 },
 "nbformat": 4,
 "nbformat_minor": 2
}
