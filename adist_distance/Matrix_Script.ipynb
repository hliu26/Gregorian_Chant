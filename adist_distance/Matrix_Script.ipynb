{
 "cells": [
  {
   "cell_type": "markdown",
   "metadata": {},
   "source": [
    "Script that writes distance matrices to each distance directory.\n",
    "Each distance matrix is normalized within its distinct distance metric."
   ]
  },
  {
   "cell_type": "code",
   "execution_count": 1,
   "metadata": {
    "collapsed": true
   },
   "outputs": [],
   "source": [
    "source(\"Distance_Functions.r\")"
   ]
  },
  {
   "cell_type": "code",
   "execution_count": 2,
   "metadata": {
    "collapsed": true
   },
   "outputs": [],
   "source": [
    "lexDomini = \"Chants/Gregorian Chant Data - LexDomini.csv\"\n",
    "rorate = \"Chants/Gregorian Chant Data - Rorate.csv\"\n",
    "dominus = \"Chants/Gregorian Chant Data - Dominus Dixit.csv\"\n",
    "factus = \"Chants/Gregorian Chant Data - Factus Est.csv\"\n",
    "BenDominum = \"Chants/Gregorian Chant Data - Benedicite Dominum.csv\"\n",
    "sicut = \"Chants/Gregorian Chant Data - Sicut Oculi.csv\""
   ]
  },
  {
   "cell_type": "code",
   "execution_count": 3,
   "metadata": {
    "collapsed": true
   },
   "outputs": [],
   "source": [
    "lexData <- read.csv(file=lexDomini, header=TRUE, sep=',')\n",
    "rorateData <- read.csv(file=rorate, header=TRUE, sep=',')\n",
    "dominusData <- read.csv(file=dominus, header=TRUE, sep=',')\n",
    "factusData <- read.csv(file=factus, header=TRUE, sep=',')\n",
    "benDomData <- read.csv(file=BenDominum, header=TRUE, sep=',')\n",
    "sicutData <- read.csv(file=sicut, header=TRUE, sep=',')"
   ]
  },
  {
   "cell_type": "code",
   "execution_count": 4,
   "metadata": {
    "collapsed": true
   },
   "outputs": [],
   "source": [
    "chant_list = list(lexData, rorateData, dominusData, factusData, benDomData, sicutData)\n",
    "chant_name = c(\"lexData\", \"rorateData\", \"dominusData\", \"factusData\", \"benDomData\", \"sicutData\")\n",
    "dist_funcs = c(mseMatrix, euclidMatrix, pearsonMatrix, adistMatrix, manMatrix, canMatrix)\n",
    "dist_funcs_name = c(\"mse\", \"euclid\", \"pearson\", \"adist\", \"manhattan\", \"canberra\")"
   ]
  },
  {
   "cell_type": "code",
   "execution_count": 5,
   "metadata": {
    "collapsed": true
   },
   "outputs": [],
   "source": [
    "for (i in dist_funcs_name) {\n",
    "    dir.create(paste(i, \"_distance\", sep=\"\"))\n",
    "}"
   ]
  },
  {
   "cell_type": "code",
   "execution_count": 6,
   "metadata": {
    "collapsed": true
   },
   "outputs": [],
   "source": [
    "write_matrix <- function(func, data, data_name, dist_funcs_name){\n",
    "    write.table(func(data), file = paste(paste(dist_funcs_name, \"_distance\",sep=\"\"), paste(\"/\", dist_funcs_name,\"_\",data_name,\".csv\",sep=\"\"), sep=\"\"))\n",
    "}\n"
   ]
  },
  {
   "cell_type": "code",
   "execution_count": 7,
   "metadata": {
    "collapsed": true
   },
   "outputs": [],
   "source": [
    "func_name = 0\n",
    "data_name = 0\n",
    "\n",
    "for (func in dist_funcs){\n",
    "    func_name = func_name + 1\n",
    "    for (data in chant_list) {\n",
    "        data_name = data_name + 1\n",
    "        write_matrix(func, data, chant_name[data_name], dist_funcs_name[func_name])\n",
    "    }\n",
    "    data_name = 0\n",
    "}"
   ]
  },
  {
   "cell_type": "code",
   "execution_count": 8,
   "metadata": {
    "collapsed": false
   },
   "outputs": [],
   "source": [
    "normalize_frame <- function(directory){\n",
    "    folder = dir(paste(\"./\", directory, \"_distance\", sep=\"\"), pattern = \".csv\")\n",
    "    largest = -1000\n",
    "    smallest = 1000\n",
    "    \n",
    "    frame_list = list()\n",
    "    \n",
    "    for (i in folder){\n",
    "        currframe = read.table(paste(\"./\", directory, \"_distance/\", i, sep=\"\"), header=TRUE)\n",
    "            \n",
    "        if (largest < max(currframe)){\n",
    "            largest = max(currframe)\n",
    "        }\n",
    "        if (smallest > min(currframe)){\n",
    "            smallest = min(currframe)\n",
    "        }\n",
    "    }\n",
    "    for (j in folder){\n",
    "        currframe = read.table(paste(\"./\", directory, \"_distance/\", j, sep=\"\"), header=TRUE)\n",
    "        currframe = (currframe - smallest) / (largest - smallest)\n",
    "        write.table(currframe, file=paste(paste(directory, \"_distance\", sep=\"\"), paste(\"/\", j, sep=\"\"), sep=\"\"))\n",
    "    }\n",
    "    largest = -1000\n",
    "    smallest = 1000\n",
    "\n",
    "\n",
    "}"
   ]
  },
  {
   "cell_type": "code",
   "execution_count": 11,
   "metadata": {
    "collapsed": false
   },
   "outputs": [],
   "source": [
    "for (i in dist_funcs_name){\n",
    "    normalize_frame(i)\n",
    "}"
   ]
  }
 ],
 "metadata": {
  "kernelspec": {
   "display_name": "R",
   "language": "R",
   "name": "ir"
  },
  "language_info": {
   "codemirror_mode": "r",
   "file_extension": ".r",
   "mimetype": "text/x-r-source",
   "name": "R",
   "pygments_lexer": "r",
   "version": "3.4.2"
  }
 },
 "nbformat": 4,
 "nbformat_minor": 2
}
