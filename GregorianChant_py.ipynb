{
 "cells": [
  {
   "cell_type": "code",
   "execution_count": null,
   "metadata": {
    "collapsed": true
   },
   "outputs": [],
   "source": [
    "import pandas as pd\n",
    "import numpy as np\n",
    "from nltk.metrics import edit_distance    \n",
    "%matplotlib inline\n",
    "import matplotlib.pyplot as plt\n",
    "import seaborn as sns\n",
    "import time\n",
    "\n",
    "from sklearn.decomposition import KernelPCA, PCA\n",
    "from sklearn.manifold import MDS\n",
    "\n",
    "import glob\n",
    "path = \"*.csv\""
   ]
  },
  {
   "cell_type": "code",
   "execution_count": 3,
   "metadata": {
    "collapsed": false
   },
   "outputs": [],
   "source": [
    "lexData = pd.read_csv(\"Chants/Gregorian Chant Data - LexDomini.csv\")\n",
    "benData = pd.read_csv(\"Chants/Gregorian Chant Data - Benedicite Dominum.csv\")\n",
    "domData = pd.read_csv(\"Chants/Gregorian Chant Data - Dominus Dixit.csv\")\n",
    "factusData = pd.read_csv(\"Chants/Gregorian Chant Data - Factus Est.csv\")\n",
    "rorateData = pd.read_csv(\"Chants/Gregorian Chant Data - Rorate.csv\")\n",
    "sicutData = pd.read_csv(\"Chants/Gregorian Chant Data - Sicut Oculi.csv\")"
   ]
  },
  {
   "cell_type": "code",
   "execution_count": null,
   "metadata": {
    "collapsed": false
   },
   "outputs": [],
   "source": [
    "all_locations = ['Ben', 'Rome1', 'Klo', 'Leipzig', 'Rou2', 'Amb1', 'Amb3', 'Amb2', 'NIt', 'Dij',\n",
    "            'Ger2', 'Ger1', 'Moosburg', 'Gai', 'Arne', 'St. Yrieix', 'Paris', 'Sens', 'Aux',\n",
    "            'Che', 'Rou1', 'Nev', 'Rome3', 'Rome2', 'MCa', 'Aqu', 'Ven', 'VimA', 'VimB','VimC', 'VimD']\n",
    "all_matrix = pd.DataFrame(columns=all_locations)\n",
    "all_matrix\n"
   ]
  },
  {
   "cell_type": "code",
   "execution_count": null,
   "metadata": {
    "collapsed": true
   },
   "outputs": [],
   "source": []
  },
  {
   "cell_type": "code",
   "execution_count": null,
   "metadata": {
    "collapsed": false
   },
   "outputs": [],
   "source": [
    "#Distance Metric: MSE\n",
    "\n",
    "def mseMatrix(m):\n",
    "    num_location = len(m.columns[1:])\n",
    "    result = pd.DataFrame(index=m.columns[1:], columns=m.columns[1:],)\n",
    "    sumSquares = 0\n",
    "    \n",
    "    for i in range(1,len(m.columns)):\n",
    "        for j in range(1,len(m.columns)):\n",
    "            if(i==j): sumSquares = 0\n",
    "            else:\n",
    "                diff_vector = m.ix[:,i] - m.ix[:,j]\n",
    "                diff_vector = diff_vector.fillna(value=1)\n",
    "                diff_vector = diff_vector ** 2\n",
    "                sumSquares = sum(diff_vector) / len(diff_vector)\n",
    "            result.ix[i-1, j-1] = sumSquares\n",
    "\n",
    "    return result"
   ]
  },
  {
   "cell_type": "code",
   "execution_count": null,
   "metadata": {
    "collapsed": true
   },
   "outputs": [],
   "source": [
    "#Distance Metric: Euclidean\n",
    "\n",
    "def euclidMatrix(m):\n",
    "    num_location = len(m.columns[1:])\n",
    "    result = pd.DataFrame(index=m.columns[1:], columns=m.columns[1:],)\n",
    "    sumSquare = 0\n",
    "    \n",
    "    for i in range(1, len(m.columns)):\n",
    "        for j in range(1, len(m.columns)):\n",
    "            if i == j: sumSquares = 0\n",
    "            else:\n",
    "                diff_vector = m.ix[:,i] - m.ix[:,j]\n",
    "                diff_vector = diff_vector.fillna(value=1)\n",
    "                diff_vector = diff_vector ** 2\n",
    "                sumSquares = sum(diff_vector)\n",
    "            result.ix[i-1, j-1] = sumSquares ** 1/2\n",
    "            \n",
    "    return result"
   ]
  },
  {
   "cell_type": "code",
   "execution_count": null,
   "metadata": {
    "collapsed": true
   },
   "outputs": [],
   "source": [
    "#Distance Metric: Pearson's Distance\n",
    "\n",
    "def pearsonMatrix(m):\n",
    "    return m.corr()"
   ]
  },
  {
   "cell_type": "code",
   "execution_count": null,
   "metadata": {
    "collapsed": true
   },
   "outputs": [],
   "source": [
    "#Distance Metric: Manhattan Distance\n",
    "\n",
    "def manhattanMatrix(m):\n",
    "    num_location = len(m.columns[1:])\n",
    "    result = pd.DataFrame(index=m.columns[1:], columns=m.columns[1:],)\n",
    "    diff = 0\n",
    "    \n",
    "    for i in range(1, len(m.columns)):\n",
    "        for j in range(1, len(m.columns)):\n",
    "            if i == j: diff = 0\n",
    "            else:\n",
    "                diff_vector = abs(m.ix[:,i] - m.ix[:,j])\n",
    "                diff_vector = diff_vector.fillna(value=1)\n",
    "                diff = sum(diff_vector)\n",
    "            result.ix[i-1, j-1] = diff\n",
    "            \n",
    "    return result"
   ]
  },
  {
   "cell_type": "code",
   "execution_count": null,
   "metadata": {
    "collapsed": true
   },
   "outputs": [],
   "source": [
    "#Distance Metric: Canberra Distance (weighted Manhattan)\n",
    "\n",
    "def canberraMatrix(m):\n",
    "    num_location = len(m.columns[1:])\n",
    "    result = pd.DataFrame(index=m.columns[1:], columns=m.columns[1:],)\n",
    "    diff = 0\n",
    "    \n",
    "    for i in range(1, len(m.columns)):\n",
    "        for j in range(1, len(m.columns)):\n",
    "            if i == j: diff = 0\n",
    "            else:\n",
    "                diff_vector = abs(m.ix[:,i] - m.ix[:,j]) / (abs(m.ix[:,i]) + abs(m.ix[:,j]))\n",
    "                diff_vector = diff_vector.fillna(value=1)\n",
    "                diff = sum(diff_vector)\n",
    "            result.ix[i-1, j-1] = diff\n",
    "            \n",
    "    return result\n"
   ]
  },
  {
   "cell_type": "code",
   "execution_count": null,
   "metadata": {
    "collapsed": true
   },
   "outputs": [],
   "source": [
    "def adistMatrix(m):\n",
    "    \n",
    "    def int_to_alpha(m):\n",
    "        note_val = {0:\"a\", -1:\"b\", -2:\"c\", -3:\"d\", -5:\"e\", -7:\"f\", -8:\"g\", -10:\"h\", -12:\"i\", 2:\"j\", 5:\"k\"}\n",
    "        num_location = len(m.columns[1:])\n",
    "        new_df = pd.DataFrame(index=[0],columns=m.columns[1:])\n",
    "        empty_col = \"\"\n",
    "    \n",
    "        def convert(n):\n",
    "            if pd.isnull(n): return \"\"\n",
    "            if n in note_val: return note_val[n]\n",
    "            else: return \"|no conversion|\"\n",
    "\n",
    "        for i in range(1,len(m.columns)):\n",
    "            for j in range(len(m)):\n",
    "                empty_col = empty_col + convert(m.ix[:,i][j])\n",
    "            new_df.ix[0, i-1] = empty_col\n",
    "            empty_col = \"\"\n",
    "    \n",
    "        return new_df\n",
    "\n",
    "    num_location = len(m.columns[1:])\n",
    "    result = pd.DataFrame(index=m.columns[1:], columns=m.columns[1:])\n",
    "    trans_m = int_to_alpha(m)\n",
    "\n",
    "    adist = 0\n",
    "    \n",
    "    for i in range(len(trans_m.columns)):\n",
    "        for j in range(len(trans_m.columns)):\n",
    "            if i == j: adist = 0\n",
    "            else:\n",
    "                adist = edit_distance(trans_m.ix[0][i], trans_m.ix[0][j])\n",
    "            result.ix[i, j] = adist\n",
    "            \n",
    "            \n",
    "    return result  "
   ]
  },
  {
   "cell_type": "code",
   "execution_count": null,
   "metadata": {
    "collapsed": true
   },
   "outputs": [],
   "source": []
  },
  {
   "cell_type": "code",
   "execution_count": null,
   "metadata": {
    "collapsed": false
   },
   "outputs": [],
   "source": [
    "#distance_list = [mseMatrix, euclidMatrix, pearsonMatrix, manhattanMatrix, canberraMatrix, adistMatrix]\n",
    "\n",
    "def get_small_large(mat_func):\n",
    "    \n",
    "    smallest = 1000\n",
    "    largest = -1000\n",
    "    \n",
    "    for chant_name in glob.glob(path):\n",
    "        data = pd.read_csv(chant_name)\n",
    "        temp_mat = mat_func(data)\n",
    "        temp_mat.fillna(value=np.nan, inplace = True)\n",
    "        temp_large = temp_mat.select_dtypes(include=[np.number]).max().max()\n",
    "        temp_small = temp_mat.select_dtypes(include=[np.number]).min().min()\n",
    "        if temp_large > largest:\n",
    "            largest = temp_large\n",
    "        if temp_small < smallest:\n",
    "            smallest = temp_small\n",
    "        #print(\"largest: \", largest)\n",
    "        #print(\"smallest: \", smallest)\n",
    "    return largest, smallest\n",
    "\n",
    "mse_largest, mse_smallest = get_small_large(mseMatrix)\n",
    "euclid_largest, euclid_smallest = get_small_large(euclidMatrix)\n",
    "pearson_largest, peason_smallest = get_small_large(pearsonMatrix)\n",
    "manhattan_largest, manhattan_smallest = get_small_large(manhattanMatrix)\n",
    "canberra_largest, canberra_smallest = get_small_large(canberraMatrix)\n",
    "adist_largest, adist_smallest = get_small_large(adistMatrix)\n"
   ]
  },
  {
   "cell_type": "code",
   "execution_count": null,
   "metadata": {
    "collapsed": true
   },
   "outputs": [],
   "source": []
  },
  {
   "cell_type": "code",
   "execution_count": null,
   "metadata": {
    "collapsed": false
   },
   "outputs": [],
   "source": [
    "def normFrame(mat_func, chant):\n",
    "    \n",
    "    smallest = 1000\n",
    "    largest = -1000\n",
    "    \n",
    "    for chant_name in glob.glob(path):\n",
    "        data = pd.read_csv(chant_name)\n",
    "        temp_mat = mat_func(data)\n",
    "        temp_mat.fillna(value=np.nan, inplace = True)\n",
    "        temp_large = temp_mat.select_dtypes(include=[np.number]).max().max()\n",
    "        temp_small = temp_mat.select_dtypes(include=[np.number]).min().min()\n",
    "        if temp_large > largest:\n",
    "            largest = temp_large\n",
    "        if temp_small < smallest:\n",
    "            smallest = temp_small\n",
    "        #print(\"largest: \", largest)\n",
    "        #print(\"smallest: \", smallest)\n",
    "    \n",
    "    matrix = mat_func(chant)\n",
    "    matrix.fillna(value=np.nan, inplace = True)\n",
    "    return (matrix - smallest) / (largest - smallest)\n",
    "\n"
   ]
  },
  {
   "cell_type": "code",
   "execution_count": null,
   "metadata": {
    "collapsed": true
   },
   "outputs": [],
   "source": []
  },
  {
   "cell_type": "code",
   "execution_count": null,
   "metadata": {
    "collapsed": false
   },
   "outputs": [],
   "source": [
    "start_time = time.time()\n",
    "chants = glob.glob(path)\n",
    "\n",
    "f, axarr = plt.subplots(len(chants),6)\n",
    "\n",
    "f.set_figheight(25)\n",
    "f.set_figwidth(26)\n",
    "\n",
    "j=0\n",
    "d_count = 0\n",
    "chant_count = 0\n",
    "distance_list = [mseMatrix, euclidMatrix, pearsonMatrix, manhattanMatrix, canberraMatrix, adistMatrix]\n",
    "chant_list = []\n",
    "\n",
    "for chant_name in chants:\n",
    "    \n",
    "    chant_list.append(chants[j].split(\"-\")[1].split(\".\")[0])\n",
    "    j+= 1\n",
    "    \n",
    "    for i in distance_list:\n",
    "        \n",
    "        data = pd.read_csv(chant_name)\n",
    "        matrix = i(data)\n",
    "        matrix.fillna(value=np.nan, inplace=True)\n",
    "        sns.heatmap(matrix,cmap=\"YlGnBu\",cbar=False, ax=axarr[chant_count][d_count])\n",
    "        d_count+=1\n",
    " \n",
    "    d_count=0\n",
    "    chant_count+=1\n",
    "\n",
    "cols = [\"mse\", \"euclid\", \"pearson\", \"manhattan\", \"canberra\", \"adist\"]\n",
    "rows = ['{}'.format(row) for row in chant_list]\n",
    "for ax, col in zip(axarr[0], cols):\n",
    "    ax.set_title(col, fontsize = 25)\n",
    "\n",
    "for ax, row in zip(axarr[:,0], rows):\n",
    "    ax.set_ylabel(row, rotation=0, fontsize = 18)\n",
    "    ax.yaxis.set_label_coords(-1,0.5)\n",
    "\n",
    "im = plt.gca().get_children()[0]\n",
    "cax = f.add_axes([1.0,0.12,0.03,0.77]) \n",
    "f.colorbar(im, cax=cax)\n",
    "\n",
    "print(\"--- %s seconds ---\" % (time.time() - start_time))"
   ]
  },
  {
   "cell_type": "code",
   "execution_count": null,
   "metadata": {
    "collapsed": true
   },
   "outputs": [],
   "source": []
  },
  {
   "cell_type": "code",
   "execution_count": null,
   "metadata": {
    "collapsed": true
   },
   "outputs": [],
   "source": []
  },
  {
   "cell_type": "code",
   "execution_count": null,
   "metadata": {
    "collapsed": true
   },
   "outputs": [],
   "source": []
  },
  {
   "cell_type": "code",
   "execution_count": null,
   "metadata": {
    "collapsed": true
   },
   "outputs": [],
   "source": []
  },
  {
   "cell_type": "code",
   "execution_count": null,
   "metadata": {
    "collapsed": true
   },
   "outputs": [],
   "source": []
  },
  {
   "cell_type": "code",
   "execution_count": null,
   "metadata": {
    "collapsed": true
   },
   "outputs": [],
   "source": []
  },
  {
   "cell_type": "code",
   "execution_count": null,
   "metadata": {
    "collapsed": true
   },
   "outputs": [],
   "source": []
  },
  {
   "cell_type": "markdown",
   "metadata": {
    "collapsed": true
   },
   "source": [
    "# Ignore code below"
   ]
  },
  {
   "cell_type": "code",
   "execution_count": null,
   "metadata": {
    "collapsed": false
   },
   "outputs": [],
   "source": [
    "kpca = KernelPCA(n_components=2, kernel=\"rbf\")\n",
    "test = kpca.fit_transform(normFrame(mseMatrix, lexData))\n",
    "test = pd.DataFrame(test)\n",
    "plt.scatter(test[0], test[1])"
   ]
  },
  {
   "cell_type": "code",
   "execution_count": null,
   "metadata": {
    "collapsed": false
   },
   "outputs": [],
   "source": [
    "mds = MDS(n_components=2, max_iter=3000, eps=1e-9, dissimilarity=\"precomputed\", n_jobs=1)\n",
    "out = mds.fit(normFrame(mseMatrix, rorateData)).embedding_\n",
    "out"
   ]
  },
  {
   "cell_type": "code",
   "execution_count": null,
   "metadata": {
    "collapsed": false
   },
   "outputs": [],
   "source": [
    "out = pd.DataFrame(out)\n",
    "out"
   ]
  },
  {
   "cell_type": "code",
   "execution_count": null,
   "metadata": {
    "collapsed": false
   },
   "outputs": [],
   "source": [
    "plt.scatter(out[0], out[1])"
   ]
  },
  {
   "cell_type": "code",
   "execution_count": null,
   "metadata": {
    "collapsed": true
   },
   "outputs": [],
   "source": []
  }
 ],
 "metadata": {
  "kernelspec": {
   "display_name": "Python 3",
   "language": "python",
   "name": "python3"
  },
  "language_info": {
   "codemirror_mode": {
    "name": "ipython",
    "version": 3
   },
   "file_extension": ".py",
   "mimetype": "text/x-python",
   "name": "python",
   "nbconvert_exporter": "python",
   "pygments_lexer": "ipython3",
   "version": "3.6.0"
  }
 },
 "nbformat": 4,
 "nbformat_minor": 2
}
