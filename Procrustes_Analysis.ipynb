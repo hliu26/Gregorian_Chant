{
 "cells": [
  {
   "cell_type": "code",
   "execution_count": 1,
   "metadata": {
    "collapsed": false
   },
   "outputs": [
    {
     "name": "stderr",
     "output_type": "stream",
     "text": [
      "Loading required package: HSAUR2\n",
      "Loading required package: tools\n",
      "Warning message:\n",
      "“package ‘vegan’ was built under R version 3.4.3”Loading required package: permute\n",
      "\n",
      "Attaching package: ‘permute’\n",
      "\n",
      "The following object is masked from ‘package:kernlab’:\n",
      "\n",
      "    how\n",
      "\n",
      "Loading required package: lattice\n",
      "This is vegan 2.4-6\n"
     ]
    }
   ],
   "source": [
    "#install.packages(\"MCMCpack\")\n",
    "#install.packages(\"MVA\")\n",
    "#install.packages(\"vegan\")\n",
    "\n",
    "library(kernlab)\n",
    "library(MASS)\n",
    "library(MVA)\n",
    "library(vegan)"
   ]
  },
  {
   "cell_type": "code",
   "execution_count": 2,
   "metadata": {
    "collapsed": true
   },
   "outputs": [],
   "source": [
    "locations <- c()\n",
    "\n",
    "#Germanic dialect group\n",
    "locations[[\"Aqu\"]] <- \"45.769725, 13.371192\"\n",
    "locations[[\"Ger1\"]] <- \"51.3, 6.85\"\n",
    "locations[[\"Ger2\"]] <- \"51.3, 6.85\"\n",
    "locations[[\"Klo\"]] <- \"48.304167, 16.316667\"\n",
    "\n",
    "#Central dialect group\n",
    "locations[[\"Arne\"]] <- \"43.1864, 0.5061\"\n",
    "locations[[\"Aux\"]] <- \"47.7986, 3.5672\"\n",
    "locations[[\"Che\"]] <- \"48.8833, 2.6\"\n",
    "locations[[\"Dij\"]] <- \"47.2906, 5.0428\"\n",
    "locations[[\"Nev\"]] <- \"46.9933, 3.1572\"\n",
    "locations[[\"NIt\"]] <- \"45.466667, 9.183333\"\n",
    "locations[[\"Paris\"]] <- \"48.8567, 2.3508\"\n",
    "locations[[\"Rou\"]] <- \"49.44, 1.1\"\n",
    "locations[[\"Rou1\"]] <- \"49.44, 1.1\"\n",
    "locations[[\"Rou2\"]] <- \"49.44, 1.1\"\n",
    "locations[[\"Sens\"]] <- \"48.1975, 3.2877\"\n",
    "locations[[\"Ven\"]] <- \"45.4375, 12.335833\"\n",
    "\n",
    "#Southwestern dialect group\n",
    "locations[[\"Ben\"]] <- \"41.133333, 14.783333\"\n",
    "locations[[\"Gai\"]] <- \"43.9014, 1.8992\"\n",
    "locations[[\"MCa\"]] <- \"41.4916, 13.8159\"\n",
    "locations[[\"St. Yrieix\"]] <- \"45.5153, 1.2042\"\n",
    "\n",
    "#Roman Chant\n",
    "locations[[\"Rome1\"]] <- \"41.887556, 12.475892\"\n",
    "locations[[\"Rome2\"]] <- \"41.885833, 12.505556\"\n",
    "locations[[\"Rome3\"]] <- \"41.902222, 12.453333\"\n",
    "\n",
    "#Ambrosian Chant\n",
    "locations[[\"Amb1\"]] <- \"45.4631, 9.1854\"\n",
    "locations[[\"Amb2\"]] <- \"45.4631, 9.1854\"\n",
    "locations[[\"Amb3\"]] <- \"45.4631, 9.1854\"\n",
    "locations[[\"VimA\"]] <- \"45.616667, 9.366667\"\n",
    "locations[[\"VimB\"]] <- \"45.616667, 9.366667\"\n",
    "locations[[\"VimC\"]] <- \"45.616667, 9.366667\"\n",
    "locations[[\"VimD\"]] <- \"45.616667, 9.366667\"\n",
    "\n",
    "locations <- as.data.frame(locations)\n",
    "coordinates <- data.frame(do.call('rbind', strsplit(as.character(locations$locations),', ',fixed=TRUE)))\n",
    "\n",
    "options(digits=6)\n",
    "df <- cbind(locations, coordinates)\n",
    "df <- df[c(\"X1\", \"X2\")]\n",
    "colnames(df) <- c(\"latitude\", \"longitude\")\n",
    "df$longitude <- as.numeric(as.character(df$longitude))\n",
    "df$latitude <- as.numeric(as.character(df$latitude))\n",
    "#df"
   ]
  },
  {
   "cell_type": "code",
   "execution_count": 3,
   "metadata": {
    "collapsed": false
   },
   "outputs": [
    {
     "data": {
      "text/html": [
       "<table>\n",
       "<thead><tr><th></th><th scope=col>latitude</th><th scope=col>longitude</th></tr></thead>\n",
       "<tbody>\n",
       "\t<tr><th scope=row>Aqu</th><td>45.7697 </td><td>13.37119</td></tr>\n",
       "\t<tr><th scope=row>Ger1</th><td>51.3000 </td><td> 6.85000</td></tr>\n",
       "\t<tr><th scope=row>Ger2</th><td>51.3000 </td><td> 6.85000</td></tr>\n",
       "\t<tr><th scope=row>Klo</th><td>48.3042 </td><td>16.31667</td></tr>\n",
       "\t<tr><th scope=row>Arne</th><td>43.1864 </td><td> 0.50610</td></tr>\n",
       "\t<tr><th scope=row>Aux</th><td>47.7986 </td><td> 3.56720</td></tr>\n",
       "\t<tr><th scope=row>Che</th><td>48.8833 </td><td> 2.60000</td></tr>\n",
       "\t<tr><th scope=row>Dij</th><td>47.2906 </td><td> 5.04280</td></tr>\n",
       "\t<tr><th scope=row>Nev</th><td>46.9933 </td><td> 3.15720</td></tr>\n",
       "\t<tr><th scope=row>NIt</th><td>45.4667 </td><td> 9.18333</td></tr>\n",
       "\t<tr><th scope=row>Paris</th><td>48.8567 </td><td> 2.35080</td></tr>\n",
       "\t<tr><th scope=row>Rou</th><td>49.4400 </td><td> 1.10000</td></tr>\n",
       "\t<tr><th scope=row>Rou1</th><td>49.4400 </td><td> 1.10000</td></tr>\n",
       "\t<tr><th scope=row>Rou2</th><td>49.4400 </td><td> 1.10000</td></tr>\n",
       "\t<tr><th scope=row>Sens</th><td>48.1975 </td><td> 3.28770</td></tr>\n",
       "\t<tr><th scope=row>Ven</th><td>45.4375 </td><td>12.33583</td></tr>\n",
       "\t<tr><th scope=row>Ben</th><td>41.1333 </td><td>14.78333</td></tr>\n",
       "\t<tr><th scope=row>Gai</th><td>43.9014 </td><td> 1.89920</td></tr>\n",
       "\t<tr><th scope=row>MCa</th><td>41.4916 </td><td>13.81590</td></tr>\n",
       "\t<tr><th scope=row>St. Yrieix</th><td>45.5153 </td><td> 1.20420</td></tr>\n",
       "\t<tr><th scope=row>Rome1</th><td>41.8876 </td><td>12.47589</td></tr>\n",
       "\t<tr><th scope=row>Rome2</th><td>41.8858 </td><td>12.50556</td></tr>\n",
       "\t<tr><th scope=row>Rome3</th><td>41.9022 </td><td>12.45333</td></tr>\n",
       "\t<tr><th scope=row>Amb1</th><td>45.4631 </td><td> 9.18540</td></tr>\n",
       "\t<tr><th scope=row>Amb2</th><td>45.4631 </td><td> 9.18540</td></tr>\n",
       "\t<tr><th scope=row>Amb3</th><td>45.4631 </td><td> 9.18540</td></tr>\n",
       "\t<tr><th scope=row>VimA</th><td>45.6167 </td><td> 9.36667</td></tr>\n",
       "\t<tr><th scope=row>VimB</th><td>45.6167 </td><td> 9.36667</td></tr>\n",
       "\t<tr><th scope=row>VimC</th><td>45.6167 </td><td> 9.36667</td></tr>\n",
       "\t<tr><th scope=row>VimD</th><td>45.6167 </td><td> 9.36667</td></tr>\n",
       "</tbody>\n",
       "</table>\n"
      ],
      "text/latex": [
       "\\begin{tabular}{r|ll}\n",
       "  & latitude & longitude\\\\\n",
       "\\hline\n",
       "\tAqu & 45.7697  & 13.37119\\\\\n",
       "\tGer1 & 51.3000  &  6.85000\\\\\n",
       "\tGer2 & 51.3000  &  6.85000\\\\\n",
       "\tKlo & 48.3042  & 16.31667\\\\\n",
       "\tArne & 43.1864  &  0.50610\\\\\n",
       "\tAux & 47.7986  &  3.56720\\\\\n",
       "\tChe & 48.8833  &  2.60000\\\\\n",
       "\tDij & 47.2906  &  5.04280\\\\\n",
       "\tNev & 46.9933  &  3.15720\\\\\n",
       "\tNIt & 45.4667  &  9.18333\\\\\n",
       "\tParis & 48.8567  &  2.35080\\\\\n",
       "\tRou & 49.4400  &  1.10000\\\\\n",
       "\tRou1 & 49.4400  &  1.10000\\\\\n",
       "\tRou2 & 49.4400  &  1.10000\\\\\n",
       "\tSens & 48.1975  &  3.28770\\\\\n",
       "\tVen & 45.4375  & 12.33583\\\\\n",
       "\tBen & 41.1333  & 14.78333\\\\\n",
       "\tGai & 43.9014  &  1.89920\\\\\n",
       "\tMCa & 41.4916  & 13.81590\\\\\n",
       "\tSt. Yrieix & 45.5153  &  1.20420\\\\\n",
       "\tRome1 & 41.8876  & 12.47589\\\\\n",
       "\tRome2 & 41.8858  & 12.50556\\\\\n",
       "\tRome3 & 41.9022  & 12.45333\\\\\n",
       "\tAmb1 & 45.4631  &  9.18540\\\\\n",
       "\tAmb2 & 45.4631  &  9.18540\\\\\n",
       "\tAmb3 & 45.4631  &  9.18540\\\\\n",
       "\tVimA & 45.6167  &  9.36667\\\\\n",
       "\tVimB & 45.6167  &  9.36667\\\\\n",
       "\tVimC & 45.6167  &  9.36667\\\\\n",
       "\tVimD & 45.6167  &  9.36667\\\\\n",
       "\\end{tabular}\n"
      ],
      "text/markdown": [
       "\n",
       "| <!--/--> | latitude | longitude | \n",
       "|---|---|---|---|---|---|---|---|---|---|---|---|---|---|---|---|---|---|---|---|---|---|---|---|---|---|---|---|---|---|\n",
       "| Aqu | 45.7697  | 13.37119 | \n",
       "| Ger1 | 51.3000  |  6.85000 | \n",
       "| Ger2 | 51.3000  |  6.85000 | \n",
       "| Klo | 48.3042  | 16.31667 | \n",
       "| Arne | 43.1864  |  0.50610 | \n",
       "| Aux | 47.7986  |  3.56720 | \n",
       "| Che | 48.8833  |  2.60000 | \n",
       "| Dij | 47.2906  |  5.04280 | \n",
       "| Nev | 46.9933  |  3.15720 | \n",
       "| NIt | 45.4667  |  9.18333 | \n",
       "| Paris | 48.8567  |  2.35080 | \n",
       "| Rou | 49.4400  |  1.10000 | \n",
       "| Rou1 | 49.4400  |  1.10000 | \n",
       "| Rou2 | 49.4400  |  1.10000 | \n",
       "| Sens | 48.1975  |  3.28770 | \n",
       "| Ven | 45.4375  | 12.33583 | \n",
       "| Ben | 41.1333  | 14.78333 | \n",
       "| Gai | 43.9014  |  1.89920 | \n",
       "| MCa | 41.4916  | 13.81590 | \n",
       "| St. Yrieix | 45.5153  |  1.20420 | \n",
       "| Rome1 | 41.8876  | 12.47589 | \n",
       "| Rome2 | 41.8858  | 12.50556 | \n",
       "| Rome3 | 41.9022  | 12.45333 | \n",
       "| Amb1 | 45.4631  |  9.18540 | \n",
       "| Amb2 | 45.4631  |  9.18540 | \n",
       "| Amb3 | 45.4631  |  9.18540 | \n",
       "| VimA | 45.6167  |  9.36667 | \n",
       "| VimB | 45.6167  |  9.36667 | \n",
       "| VimC | 45.6167  |  9.36667 | \n",
       "| VimD | 45.6167  |  9.36667 | \n",
       "\n",
       "\n"
      ],
      "text/plain": [
       "           latitude longitude\n",
       "Aqu        45.7697  13.37119 \n",
       "Ger1       51.3000   6.85000 \n",
       "Ger2       51.3000   6.85000 \n",
       "Klo        48.3042  16.31667 \n",
       "Arne       43.1864   0.50610 \n",
       "Aux        47.7986   3.56720 \n",
       "Che        48.8833   2.60000 \n",
       "Dij        47.2906   5.04280 \n",
       "Nev        46.9933   3.15720 \n",
       "NIt        45.4667   9.18333 \n",
       "Paris      48.8567   2.35080 \n",
       "Rou        49.4400   1.10000 \n",
       "Rou1       49.4400   1.10000 \n",
       "Rou2       49.4400   1.10000 \n",
       "Sens       48.1975   3.28770 \n",
       "Ven        45.4375  12.33583 \n",
       "Ben        41.1333  14.78333 \n",
       "Gai        43.9014   1.89920 \n",
       "MCa        41.4916  13.81590 \n",
       "St. Yrieix 45.5153   1.20420 \n",
       "Rome1      41.8876  12.47589 \n",
       "Rome2      41.8858  12.50556 \n",
       "Rome3      41.9022  12.45333 \n",
       "Amb1       45.4631   9.18540 \n",
       "Amb2       45.4631   9.18540 \n",
       "Amb3       45.4631   9.18540 \n",
       "VimA       45.6167   9.36667 \n",
       "VimB       45.6167   9.36667 \n",
       "VimC       45.6167   9.36667 \n",
       "VimD       45.6167   9.36667 "
      ]
     },
     "metadata": {},
     "output_type": "display_data"
    }
   ],
   "source": [
    "df"
   ]
  },
  {
   "cell_type": "code",
   "execution_count": 4,
   "metadata": {
    "collapsed": false
   },
   "outputs": [],
   "source": [
    "dist_folders = dir(path=\".\", pattern=\"_distance\")"
   ]
  },
  {
   "cell_type": "code",
   "execution_count": 5,
   "metadata": {
    "collapsed": false
   },
   "outputs": [],
   "source": [
    "num_chants = length(dir(path=\"Chants\")) - 1"
   ]
  },
  {
   "cell_type": "code",
   "execution_count": 10,
   "metadata": {
    "collapsed": false
   },
   "outputs": [
    {
     "name": "stdout",
     "output_type": "stream",
     "text": [
      "[1] \"=================================================================================\"\n",
      "[1] \"adist_distance\"\n",
      "[1] \"adist_distance/adist_Benedicite Dominum.csv\"\n",
      "[1] 285.106\n",
      "[1] \"adist_distance/adist_Dominus Dixit.csv\"\n",
      "[1] 338.778\n",
      "[1] \"adist_distance/adist_Factus Est.csv\"\n",
      "[1] 355.215\n",
      "[1] \"adist_distance/adist_LexDomini.csv\"\n",
      "[1] 387.741\n",
      "[1] \"adist_distance/adist_Nomine Domini.csv\"\n",
      "[1] 253.252\n",
      "[1] \"adist_distance/adist_Rorate.csv\"\n",
      "[1] 347.553\n",
      "[1] \"adist_distance/adist_Sicut Oculi.csv\"\n",
      "[1] 328.256\n",
      "[1] \"=================================================================================\"\n",
      "[1] \"canberra_distance\"\n",
      "[1] \"canberra_distance/canberra_Benedicite Dominum.csv\"\n",
      "[1] 245.761\n",
      "[1] \"canberra_distance/canberra_Dominus Dixit.csv\"\n",
      "[1] 295.545\n",
      "[1] \"canberra_distance/canberra_Factus Est.csv\"\n",
      "[1] 284.12\n",
      "[1] \"canberra_distance/canberra_LexDomini.csv\"\n",
      "[1] 234.749\n",
      "[1] \"canberra_distance/canberra_Nomine Domini.csv\"\n",
      "[1] 237.262\n",
      "[1] \"canberra_distance/canberra_Rorate.csv\"\n",
      "[1] 255.919\n",
      "[1] \"canberra_distance/canberra_Sicut Oculi.csv\"\n",
      "[1] 252.886\n",
      "[1] \"=================================================================================\"\n",
      "[1] \"euclid_distance\"\n",
      "[1] \"euclid_distance/euclid_Benedicite Dominum.csv\"\n"
     ]
    },
    {
     "name": "stderr",
     "output_type": "stream",
     "text": [
      "Warning message in .local(x, ...):\n",
      "“eigenvalues of the kernel matrix are below threshold!”"
     ]
    },
    {
     "name": "stdout",
     "output_type": "stream",
     "text": [
      "[1] 10900.2\n",
      "[1] \"euclid_distance/euclid_Dominus Dixit.csv\"\n",
      "[1] 5397.44\n",
      "[1] \"euclid_distance/euclid_Factus Est.csv\"\n",
      "[1] 3474.28\n",
      "[1] \"euclid_distance/euclid_LexDomini.csv\"\n",
      "[1] 6755.06\n",
      "[1] \"euclid_distance/euclid_Nomine Domini.csv\"\n",
      "[1] 450.827\n",
      "[1] \"euclid_distance/euclid_Rorate.csv\"\n",
      "[1] 2109.37\n",
      "[1] \"euclid_distance/euclid_Sicut Oculi.csv\"\n"
     ]
    },
    {
     "name": "stderr",
     "output_type": "stream",
     "text": [
      "Warning message in .local(x, ...):\n",
      "“eigenvalues of the kernel matrix are below threshold!”"
     ]
    },
    {
     "name": "stdout",
     "output_type": "stream",
     "text": [
      "[1] 20804.1\n",
      "[1] \"=================================================================================\"\n",
      "[1] \"manhattan_distance\"\n",
      "[1] \"manhattan_distance/manhattan_Benedicite Dominum.csv\"\n",
      "[1] 1246\n",
      "[1] \"manhattan_distance/manhattan_Dominus Dixit.csv\"\n",
      "[1] 843.434\n",
      "[1] \"manhattan_distance/manhattan_Factus Est.csv\"\n",
      "[1] 624.601\n",
      "[1] \"manhattan_distance/manhattan_LexDomini.csv\"\n",
      "[1] 1161.43\n",
      "[1] \"manhattan_distance/manhattan_Nomine Domini.csv\"\n",
      "[1] 264.173\n",
      "[1] \"manhattan_distance/manhattan_Rorate.csv\"\n",
      "[1] 653.766\n",
      "[1] \"manhattan_distance/manhattan_Sicut Oculi.csv\"\n",
      "[1] 1019.45\n",
      "[1] \"=================================================================================\"\n",
      "[1] \"mse_distance\"\n",
      "[1] \"mse_distance/mse_Benedicite Dominum.csv\"\n",
      "[1] 5417.95\n",
      "[1] \"mse_distance/mse_Dominus Dixit.csv\"\n",
      "[1] 2326.45\n",
      "[1] \"mse_distance/mse_Factus Est.csv\"\n",
      "[1] 2148.86\n",
      "[1] \"mse_distance/mse_LexDomini.csv\"\n",
      "[1] 3394.28\n",
      "[1] \"mse_distance/mse_Nomine Domini.csv\"\n",
      "[1] 371.569\n",
      "[1] \"mse_distance/mse_Rorate.csv\"\n",
      "[1] 1204.59\n",
      "[1] \"mse_distance/mse_Sicut Oculi.csv\"\n",
      "[1] 7697.23\n",
      "[1] \"=================================================================================\"\n",
      "[1] \"pearson_distance\"\n",
      "[1] \"pearson_distance/pearson_Benedicite Dominum.csv\"\n",
      "[1] 3890.46\n",
      "[1] \"pearson_distance/pearson_Dominus Dixit.csv\"\n",
      "[1] 295.099\n",
      "[1] \"pearson_distance/pearson_Factus Est.csv\"\n",
      "[1] 575.533\n",
      "[1] \"pearson_distance/pearson_LexDomini.csv\"\n",
      "[1] 1446.33\n",
      "[1] \"pearson_distance/pearson_Nomine Domini.csv\"\n",
      "[1] 261.285\n",
      "[1] \"pearson_distance/pearson_Rorate.csv\"\n",
      "[1] 825.107\n",
      "[1] \"pearson_distance/pearson_Sicut Oculi.csv\"\n",
      "[1] 2156.47\n"
     ]
    }
   ],
   "source": [
    "for(i in 1:length(dist_folders)){\n",
    "    \n",
    "    #file.remove(paste(dist_folders[i],\"/\", dir(dist_folders[i], pattern=\".pdf\"), sep=\"\"))\n",
    "    \n",
    "    curr_directory = dir(dist_folders[i])\n",
    "    \n",
    "    pdf(paste(strsplit(dist_folders[i], split=\".csv\"), \"/\",\"kpca_procrustes_errors.pdf\", sep=\"\"))\n",
    "    print(\"=================================================================================\")\n",
    "    print(dist_folders[i] )\n",
    "    \n",
    "    for (j in 1:length(curr_directory)){\n",
    "        print(paste(dist_folders[i],\"/\", curr_directory[j], sep=\"\"))\n",
    "        curr_table <- read.table(paste(dist_folders[i],\"/\", curr_directory[j], sep=\"\"))\n",
    "   \n",
    "        #print(curr_table)\n",
    "        #print(\"break\")\n",
    "        #print(row.names(curr_table))\n",
    "        #print('break')\n",
    "        pca <- pcv(kpca(~.,curr_table, kernel=\"rbfdot\",kpar=list(sigma=0.2),features=2))\n",
    "        #print(pca)\n",
    "        data = df[row.names(curr_table),]\n",
    "        \n",
    "        \n",
    "        procrust_var = procrustes(data, pca, scale = FALSE)\n",
    "        #summary(procrust_var)\n",
    "\n",
    "        #print(curr_directory[j])\n",
    "        print(procrust_var$ss)\n",
    "        plot(procrust_var, kind=1, main = paste(curr_directory[j], \"_errors\", sep=\"\"))\n",
    "\n",
    "    }\n",
    "    dev.off()\n",
    "\n",
    "    \n",
    "}\n"
   ]
  },
  {
   "cell_type": "code",
   "execution_count": null,
   "metadata": {
    "collapsed": false
   },
   "outputs": [],
   "source": []
  },
  {
   "cell_type": "code",
   "execution_count": 11,
   "metadata": {
    "collapsed": false
   },
   "outputs": [
    {
     "data": {
      "text/html": [],
      "text/latex": [],
      "text/markdown": [],
      "text/plain": [
       "character(0)"
      ]
     },
     "metadata": {},
     "output_type": "display_data"
    }
   ],
   "source": [
    "files <- list.files(pattern = \"\\\\.pdf$\")\n",
    "files"
   ]
  },
  {
   "cell_type": "code",
   "execution_count": 12,
   "metadata": {
    "collapsed": false
   },
   "outputs": [],
   "source": [
    "dist_folders = dist_folders[dist_folders!= \"pearson_distance\"]\n",
    "for(i in 1:length(dist_folders)){\n",
    "    \n",
    "    file.remove(paste(dist_folders[i],\"/\", dir(dist_folders[i], pattern=\".pdf\"), sep=\"\"))\n",
    "    \n",
    "    curr_directory = dir(dist_folders[i])\n",
    "    \n",
    "    pdf(paste(strsplit(dist_folders[i], split=\".csv\"), \"/\",\"mds_procrustes_errors.pdf\", sep=\"\"))\n",
    "    \n",
    "    for (j in 1:length(curr_directory)){\n",
    "\n",
    "        curr_table <- read.table(paste(dist_folders[i],\"/\", curr_directory[j], sep=\"\"))\n",
    "        \n",
    "        mds = cmdscale(curr_table, k=2)\n",
    "    \n",
    "        data = df[row.names(curr_table),]\n",
    "        \n",
    "        procrust_var = procrustes(data, mds, scale = FALSE)\n",
    "        #summary(procrust_var)\n",
    "        \n",
    "        plot(procrust_var, kind=1, main = paste(curr_directory[j], \"_errors\", sep=\"\"))\n",
    "\n",
    "    }\n",
    "    dev.off()\n",
    "\n",
    "    \n",
    "}"
   ]
  },
  {
   "cell_type": "code",
   "execution_count": null,
   "metadata": {
    "collapsed": true
   },
   "outputs": [],
   "source": []
  },
  {
   "cell_type": "code",
   "execution_count": null,
   "metadata": {
    "collapsed": true
   },
   "outputs": [],
   "source": []
  },
  {
   "cell_type": "code",
   "execution_count": null,
   "metadata": {
    "collapsed": true
   },
   "outputs": [],
   "source": []
  },
  {
   "cell_type": "code",
   "execution_count": null,
   "metadata": {
    "collapsed": true
   },
   "outputs": [],
   "source": []
  },
  {
   "cell_type": "code",
   "execution_count": null,
   "metadata": {
    "collapsed": true
   },
   "outputs": [],
   "source": []
  },
  {
   "cell_type": "code",
   "execution_count": 22,
   "metadata": {
    "collapsed": false
   },
   "outputs": [],
   "source": [
    "kpc <-kpca(~.,read.table(\"mse_distance/mse_LexDomini.csv\"),kernel=\"rbfdot\",kpar=list(sigma=0.2),features=2)\n",
    "pca<- pcv(kpc)"
   ]
  },
  {
   "cell_type": "code",
   "execution_count": null,
   "metadata": {
    "collapsed": true
   },
   "outputs": [],
   "source": []
  },
  {
   "cell_type": "code",
   "execution_count": 23,
   "metadata": {
    "collapsed": false
   },
   "outputs": [],
   "source": [
    "curr_table <- read.table(\"mse_distance/mse_LexDomini.csv\")"
   ]
  },
  {
   "cell_type": "code",
   "execution_count": 24,
   "metadata": {
    "collapsed": false
   },
   "outputs": [
    {
     "data": {
      "text/plain": [
       "\n",
       "Call:\n",
       "procrustes(X = data, Y = pca, scale = FALSE) \n",
       "\n",
       "Number of objects: 10    Number of dimensions: 2 \n",
       "\n",
       "Procrustes sum of squares:  \n",
       " 3394.28 \n",
       "Procrustes root mean squared error: \n",
       " 18.4236 \n",
       "Quantiles of Procrustes errors:\n",
       "     Min       1Q   Median       3Q      Max \n",
       " 2.79178  6.01853 13.97486 15.74008 42.07965 \n",
       "\n",
       "Rotation matrix:\n",
       "          [,1]     [,2]\n",
       "[1,]  0.612293 0.790631\n",
       "[2,] -0.790631 0.612293\n",
       "\n",
       "Translation of averages:\n",
       "        [,1]    [,2]\n",
       "[1,] 46.0159 6.07957\n",
       "\n",
       "Scaling of target:\n",
       "[1] 1\n"
      ]
     },
     "metadata": {},
     "output_type": "display_data"
    }
   ],
   "source": [
    "mds = cmdscale(curr_table, k=2)\n",
    "\n",
    "data = df[row.names(curr_table),]\n",
    "\n",
    "procrust_var = procrustes(data, pca, scale = FALSE)\n",
    "summary(procrust_var)\n",
    "\n",
    "#plot(mds[,1], y=-1 * mds[,2], type = \"n\")\n",
    "#text(mds[,1], -1 * mds[,2], labels=colnames(rorateData[2:11]), cex=0.5, xpd=TRUE)"
   ]
  },
  {
   "cell_type": "code",
   "execution_count": null,
   "metadata": {
    "collapsed": true
   },
   "outputs": [],
   "source": []
  },
  {
   "cell_type": "code",
   "execution_count": null,
   "metadata": {
    "collapsed": true
   },
   "outputs": [],
   "source": []
  },
  {
   "cell_type": "code",
   "execution_count": null,
   "metadata": {
    "collapsed": true
   },
   "outputs": [],
   "source": []
  },
  {
   "cell_type": "code",
   "execution_count": null,
   "metadata": {
    "collapsed": false
   },
   "outputs": [],
   "source": []
  },
  {
   "cell_type": "code",
   "execution_count": 27,
   "metadata": {
    "collapsed": false
   },
   "outputs": [
    {
     "data": {
      "text/html": [
       "<table>\n",
       "<thead><tr><th></th><th scope=col>latitude</th><th scope=col>longitude</th></tr></thead>\n",
       "<tbody>\n",
       "\t<tr><th scope=row>Aqu</th><td>45.7697</td><td>13.3712</td></tr>\n",
       "\t<tr><th scope=row>Ger1</th><td>51.3000</td><td> 6.8500</td></tr>\n",
       "\t<tr><th scope=row>Dij</th><td>47.2906</td><td> 5.0428</td></tr>\n",
       "\t<tr><th scope=row>Arne</th><td>43.1864</td><td> 0.5061</td></tr>\n",
       "\t<tr><th scope=row>Nev</th><td>46.9933</td><td> 3.1572</td></tr>\n",
       "\t<tr><th scope=row>Che</th><td>48.8833</td><td> 2.6000</td></tr>\n",
       "\t<tr><th scope=row>Gai</th><td>43.9014</td><td> 1.8992</td></tr>\n",
       "\t<tr><th scope=row>MCa</th><td>41.4916</td><td>13.8159</td></tr>\n",
       "\t<tr><th scope=row>Rou</th><td>49.4400</td><td> 1.1000</td></tr>\n",
       "\t<tr><th scope=row>Rome3</th><td>41.9022</td><td>12.4533</td></tr>\n",
       "</tbody>\n",
       "</table>\n"
      ],
      "text/latex": [
       "\\begin{tabular}{r|ll}\n",
       "  & latitude & longitude\\\\\n",
       "\\hline\n",
       "\tAqu & 45.7697 & 13.3712\\\\\n",
       "\tGer1 & 51.3000 &  6.8500\\\\\n",
       "\tDij & 47.2906 &  5.0428\\\\\n",
       "\tArne & 43.1864 &  0.5061\\\\\n",
       "\tNev & 46.9933 &  3.1572\\\\\n",
       "\tChe & 48.8833 &  2.6000\\\\\n",
       "\tGai & 43.9014 &  1.8992\\\\\n",
       "\tMCa & 41.4916 & 13.8159\\\\\n",
       "\tRou & 49.4400 &  1.1000\\\\\n",
       "\tRome3 & 41.9022 & 12.4533\\\\\n",
       "\\end{tabular}\n"
      ],
      "text/markdown": [
       "\n",
       "| <!--/--> | latitude | longitude | \n",
       "|---|---|---|---|---|---|---|---|---|---|\n",
       "| Aqu | 45.7697 | 13.3712 | \n",
       "| Ger1 | 51.3000 |  6.8500 | \n",
       "| Dij | 47.2906 |  5.0428 | \n",
       "| Arne | 43.1864 |  0.5061 | \n",
       "| Nev | 46.9933 |  3.1572 | \n",
       "| Che | 48.8833 |  2.6000 | \n",
       "| Gai | 43.9014 |  1.8992 | \n",
       "| MCa | 41.4916 | 13.8159 | \n",
       "| Rou | 49.4400 |  1.1000 | \n",
       "| Rome3 | 41.9022 | 12.4533 | \n",
       "\n",
       "\n"
      ],
      "text/plain": [
       "      latitude longitude\n",
       "Aqu   45.7697  13.3712  \n",
       "Ger1  51.3000   6.8500  \n",
       "Dij   47.2906   5.0428  \n",
       "Arne  43.1864   0.5061  \n",
       "Nev   46.9933   3.1572  \n",
       "Che   48.8833   2.6000  \n",
       "Gai   43.9014   1.8992  \n",
       "MCa   41.4916  13.8159  \n",
       "Rou   49.4400   1.1000  \n",
       "Rome3 41.9022  12.4533  "
      ]
     },
     "metadata": {},
     "output_type": "display_data"
    }
   ],
   "source": [
    "data = df[row.names(curr_table),]\n",
    "data"
   ]
  },
  {
   "cell_type": "code",
   "execution_count": null,
   "metadata": {
    "collapsed": true
   },
   "outputs": [],
   "source": []
  },
  {
   "cell_type": "code",
   "execution_count": 34,
   "metadata": {
    "collapsed": false
   },
   "outputs": [
    {
     "data": {
      "text/plain": [
       "\n",
       "Call:\n",
       "procrustes(X = data, Y = pca, scale = TRUE) \n",
       "\n",
       "Number of objects: 10    Number of dimensions: 2 \n",
       "\n",
       "Procrustes sum of squares:  \n",
       " 306.463 \n",
       "Procrustes root mean squared error: \n",
       " 5.53591 \n",
       "Quantiles of Procrustes errors:\n",
       "    Min      1Q  Median      3Q     Max \n",
       "1.07936 3.37550 4.48875 7.47694 8.02390 \n",
       "\n",
       "Rotation matrix:\n",
       "          [,1]     [,2]\n",
       "[1,]  0.612293 0.790631\n",
       "[2,] -0.790631 0.612293\n",
       "\n",
       "Translation of averages:\n",
       "        [,1]    [,2]\n",
       "[1,] 46.0159 6.07957\n",
       "\n",
       "Scaling of target:\n",
       "[1] 0.105781\n"
      ]
     },
     "metadata": {},
     "output_type": "display_data"
    }
   ],
   "source": [
    "procrust_var = procrustes(data, pca, scale = TRUE)\n",
    "summary(procrust_var)"
   ]
  },
  {
   "cell_type": "code",
   "execution_count": 35,
   "metadata": {
    "collapsed": false
   },
   "outputs": [
    {
     "name": "stdout",
     "output_type": "stream",
     "text": [
      "            [,1]       [,2]\n",
      " [1,]  0.6785214 -0.6223636\n",
      " [2,]  1.5011911 -1.3030340\n",
      " [3,]  0.3620933 -0.4605063\n",
      " [4,]  0.1038555 -0.2626676\n",
      " [5,] -0.0919932 -0.0876913\n",
      " [6,]  1.0567671 -1.0094480\n",
      " [7,]  1.0555281 -0.9984207\n",
      " [8,] -4.1989454  3.2621423\n",
      " [9,] -1.6309757  1.1522396\n",
      "[10,]  1.1639580  0.3297496\n",
      "             [,1]       [,2]\n",
      "site1   0.6785214 -0.6223636\n",
      "site2   1.5011911 -1.3030340\n",
      "site3   0.3620933 -0.4605063\n",
      "site4   0.1038555 -0.2626676\n",
      "site5  -0.0919932 -0.0876913\n",
      "site6   1.0567671 -1.0094480\n",
      "site7   1.0555281 -0.9984207\n",
      "site8  -4.1989454  3.2621423\n",
      "site9  -1.6309757  1.1522396\n",
      "site10  1.1639580  0.3297496\n"
     ]
    },
    {
     "data": {
      "text/html": [
       "<table>\n",
       "<tbody>\n",
       "\t<tr><th scope=row>site1</th><td> 0.6785214</td><td>-0.6223636</td></tr>\n",
       "\t<tr><th scope=row>site2</th><td> 1.5011911</td><td>-1.3030340</td></tr>\n",
       "\t<tr><th scope=row>site3</th><td> 0.3620933</td><td>-0.4605063</td></tr>\n",
       "\t<tr><th scope=row>site4</th><td> 0.1038555</td><td>-0.2626676</td></tr>\n",
       "\t<tr><th scope=row>site5</th><td>-0.0919932</td><td>-0.0876913</td></tr>\n",
       "\t<tr><th scope=row>site6</th><td> 1.0567671</td><td>-1.0094480</td></tr>\n",
       "\t<tr><th scope=row>site7</th><td> 1.0555281</td><td>-0.9984207</td></tr>\n",
       "\t<tr><th scope=row>site8</th><td>-4.1989454</td><td> 3.2621423</td></tr>\n",
       "\t<tr><th scope=row>site9</th><td>-1.6309757</td><td> 1.1522396</td></tr>\n",
       "\t<tr><th scope=row>site10</th><td> 1.1639580</td><td> 0.3297496</td></tr>\n",
       "</tbody>\n",
       "</table>\n"
      ],
      "text/latex": [
       "\\begin{tabular}{r|ll}\n",
       "\tsite1 &  0.6785214 & -0.6223636\\\\\n",
       "\tsite2 &  1.5011911 & -1.3030340\\\\\n",
       "\tsite3 &  0.3620933 & -0.4605063\\\\\n",
       "\tsite4 &  0.1038555 & -0.2626676\\\\\n",
       "\tsite5 & -0.0919932 & -0.0876913\\\\\n",
       "\tsite6 &  1.0567671 & -1.0094480\\\\\n",
       "\tsite7 &  1.0555281 & -0.9984207\\\\\n",
       "\tsite8 & -4.1989454 &  3.2621423\\\\\n",
       "\tsite9 & -1.6309757 &  1.1522396\\\\\n",
       "\tsite10 &  1.1639580 &  0.3297496\\\\\n",
       "\\end{tabular}\n"
      ],
      "text/markdown": [
       "\n",
       "| site1 |  0.6785214 | -0.6223636 | \n",
       "| site2 |  1.5011911 | -1.3030340 | \n",
       "| site3 |  0.3620933 | -0.4605063 | \n",
       "| site4 |  0.1038555 | -0.2626676 | \n",
       "| site5 | -0.0919932 | -0.0876913 | \n",
       "| site6 |  1.0567671 | -1.0094480 | \n",
       "| site7 |  1.0555281 | -0.9984207 | \n",
       "| site8 | -4.1989454 |  3.2621423 | \n",
       "| site9 | -1.6309757 |  1.1522396 | \n",
       "| site10 |  1.1639580 |  0.3297496 | \n",
       "\n",
       "\n"
      ],
      "text/plain": [
       "       [,1]       [,2]      \n",
       "site1   0.6785214 -0.6223636\n",
       "site2   1.5011911 -1.3030340\n",
       "site3   0.3620933 -0.4605063\n",
       "site4   0.1038555 -0.2626676\n",
       "site5  -0.0919932 -0.0876913\n",
       "site6   1.0567671 -1.0094480\n",
       "site7   1.0555281 -0.9984207\n",
       "site8  -4.1989454  3.2621423\n",
       "site9  -1.6309757  1.1522396\n",
       "site10  1.1639580  0.3297496"
      ]
     },
     "metadata": {},
     "output_type": "display_data"
    }
   ],
   "source": [
    "print(procrust_var$scale* pca %*% procrust_var$rotation) \n",
    "print(procrust_var$Y)\n",
    "procrust_var$Yrot"
   ]
  },
  {
   "cell_type": "code",
   "execution_count": 36,
   "metadata": {
    "collapsed": false
   },
   "outputs": [
    {
     "name": "stdout",
     "output_type": "stream",
     "text": [
      "       latitude longitude\n",
      "Aqu   -0.246130  7.291620\n",
      "Ger1   5.284145  0.770427\n",
      "Dij    1.274745 -1.036773\n",
      "Arne  -2.829455 -5.573473\n",
      "Nev    0.977445 -2.922373\n",
      "Che    2.867445 -3.479573\n",
      "Gai   -2.114455 -4.180373\n",
      "MCa   -4.524255  7.736327\n",
      "Rou    3.424145 -4.979572\n",
      "Rome3 -4.113633  6.373761\n",
      "attr(,\"scaled:center\")\n",
      " latitude longitude \n",
      " 46.01585   6.07957 \n",
      "[1] \"===================================\"\n",
      "             [,1]       [,2]\n",
      "site1   0.6785214 -0.6223636\n",
      "site2   1.5011911 -1.3030340\n",
      "site3   0.3620933 -0.4605063\n",
      "site4   0.1038555 -0.2626676\n",
      "site5  -0.0919932 -0.0876913\n",
      "site6   1.0567671 -1.0094480\n",
      "site7   1.0555281 -0.9984207\n",
      "site8  -4.1989454  3.2621423\n",
      "site9  -1.6309757  1.1522396\n",
      "site10  1.1639580  0.3297496\n"
     ]
    },
    {
     "data": {
      "image/png": "[encoded data removed]",
      "text/plain": [
       "Plot with title “Procrustes errors”"
      ]
     },
     "metadata": {},
     "output_type": "display_data"
    }
   ],
   "source": [
    "print(procrust_var$X)\n",
    "print(\"===================================\")\n",
    "\n",
    "print(procrust_var$Y)\n",
    "#print(procrust_var$Yrot) Y isn't rotated? Yrot == Y why?\n",
    "\n",
    "#\n",
    "plot(procrust_var)\n",
    "\n",
    "\n",
    "\n",
    "#you can change X (actual location) with translation (add to values)\n",
    "#plot shows the Y and it's error from translated X\n",
    "#Turns out Y is already rotated and scaled \n",
    "    #-> Plotted Y = rotated Y -> scale * pca %*% rotation matrix"
   ]
  },
  {
   "cell_type": "code",
   "execution_count": null,
   "metadata": {
    "collapsed": true
   },
   "outputs": [],
   "source": []
  },
  {
   "cell_type": "code",
   "execution_count": null,
   "metadata": {
    "collapsed": false
   },
   "outputs": [],
   "source": []
  },
  {
   "cell_type": "code",
   "execution_count": 37,
   "metadata": {
    "collapsed": false
   },
   "outputs": [
    {
     "name": "stdout",
     "output_type": "stream",
     "text": [
      "      latitude longitude\n",
      "Aqu    45.7697   13.3712\n",
      "Ger1   51.3000    6.8500\n",
      "Dij    47.2906    5.0428\n",
      "Arne   43.1864    0.5061\n",
      "Nev    46.9933    3.1572\n",
      "Che    48.8833    2.6000\n",
      "Gai    43.9014    1.8992\n",
      "MCa    41.4916   13.8159\n",
      "Rou    49.4400    1.1000\n",
      "Rome3  41.9022   12.4533\n"
     ]
    },
    {
     "data": {
      "text/html": [
       "<table>\n",
       "<tbody>\n",
       "\t<tr><td>46.0159</td><td>6.07957</td></tr>\n",
       "</tbody>\n",
       "</table>\n"
      ],
      "text/latex": [
       "\\begin{tabular}{ll}\n",
       "\t 46.0159 & 6.07957\\\\\n",
       "\\end{tabular}\n"
      ],
      "text/markdown": [
       "\n",
       "| 46.0159 | 6.07957 | \n",
       "\n",
       "\n"
      ],
      "text/plain": [
       "     [,1]    [,2]   \n",
       "[1,] 46.0159 6.07957"
      ]
     },
     "metadata": {},
     "output_type": "display_data"
    },
    {
     "data": {
      "text/html": [
       "<table>\n",
       "<thead><tr><th></th><th scope=col>latitude</th><th scope=col>longitude</th></tr></thead>\n",
       "<tbody>\n",
       "\t<tr><th scope=row>Aqu</th><td>-0.246130</td><td> 7.291620</td></tr>\n",
       "\t<tr><th scope=row>Ger1</th><td> 5.284145</td><td> 0.770427</td></tr>\n",
       "\t<tr><th scope=row>Dij</th><td> 1.274745</td><td>-1.036773</td></tr>\n",
       "\t<tr><th scope=row>Arne</th><td>-2.829455</td><td>-5.573473</td></tr>\n",
       "\t<tr><th scope=row>Nev</th><td> 0.977445</td><td>-2.922373</td></tr>\n",
       "\t<tr><th scope=row>Che</th><td> 2.867445</td><td>-3.479573</td></tr>\n",
       "\t<tr><th scope=row>Gai</th><td>-2.114455</td><td>-4.180373</td></tr>\n",
       "\t<tr><th scope=row>MCa</th><td>-4.524255</td><td> 7.736327</td></tr>\n",
       "\t<tr><th scope=row>Rou</th><td> 3.424145</td><td>-4.979572</td></tr>\n",
       "\t<tr><th scope=row>Rome3</th><td>-4.113633</td><td> 6.373761</td></tr>\n",
       "</tbody>\n",
       "</table>\n"
      ],
      "text/latex": [
       "\\begin{tabular}{r|ll}\n",
       "  & latitude & longitude\\\\\n",
       "\\hline\n",
       "\tAqu & -0.246130 &  7.291620\\\\\n",
       "\tGer1 &  5.284145 &  0.770427\\\\\n",
       "\tDij &  1.274745 & -1.036773\\\\\n",
       "\tArne & -2.829455 & -5.573473\\\\\n",
       "\tNev &  0.977445 & -2.922373\\\\\n",
       "\tChe &  2.867445 & -3.479573\\\\\n",
       "\tGai & -2.114455 & -4.180373\\\\\n",
       "\tMCa & -4.524255 &  7.736327\\\\\n",
       "\tRou &  3.424145 & -4.979572\\\\\n",
       "\tRome3 & -4.113633 &  6.373761\\\\\n",
       "\\end{tabular}\n"
      ],
      "text/markdown": [
       "\n",
       "| <!--/--> | latitude | longitude | \n",
       "|---|---|---|---|---|---|---|---|---|---|\n",
       "| Aqu | -0.246130 |  7.291620 | \n",
       "| Ger1 |  5.284145 |  0.770427 | \n",
       "| Dij |  1.274745 | -1.036773 | \n",
       "| Arne | -2.829455 | -5.573473 | \n",
       "| Nev |  0.977445 | -2.922373 | \n",
       "| Che |  2.867445 | -3.479573 | \n",
       "| Gai | -2.114455 | -4.180373 | \n",
       "| MCa | -4.524255 |  7.736327 | \n",
       "| Rou |  3.424145 | -4.979572 | \n",
       "| Rome3 | -4.113633 |  6.373761 | \n",
       "\n",
       "\n"
      ],
      "text/plain": [
       "      latitude  longitude\n",
       "Aqu   -0.246130  7.291620\n",
       "Ger1   5.284145  0.770427\n",
       "Dij    1.274745 -1.036773\n",
       "Arne  -2.829455 -5.573473\n",
       "Nev    0.977445 -2.922373\n",
       "Che    2.867445 -3.479573\n",
       "Gai   -2.114455 -4.180373\n",
       "MCa   -4.524255  7.736327\n",
       "Rou    3.424145 -4.979572\n",
       "Rome3 -4.113633  6.373761"
      ]
     },
     "metadata": {},
     "output_type": "display_data"
    },
    {
     "name": "stdout",
     "output_type": "stream",
     "text": [
      " latitude longitude \n",
      " -0.24613   7.29162 \n"
     ]
    },
    {
     "data": {
      "text/html": [
       "<table>\n",
       "<tbody>\n",
       "\t<tr><th scope=row>site1</th><td>46.6944</td><td>5.45721</td></tr>\n",
       "\t<tr><th scope=row>site2</th><td>47.5170</td><td>4.77654</td></tr>\n",
       "\t<tr><th scope=row>site3</th><td>46.3779</td><td>5.61907</td></tr>\n",
       "\t<tr><th scope=row>site4</th><td>46.1197</td><td>5.81690</td></tr>\n",
       "\t<tr><th scope=row>site5</th><td>45.9239</td><td>5.99188</td></tr>\n",
       "\t<tr><th scope=row>site6</th><td>47.0726</td><td>5.07012</td></tr>\n",
       "\t<tr><th scope=row>site7</th><td>47.0714</td><td>5.08115</td></tr>\n",
       "\t<tr><th scope=row>site8</th><td>41.8169</td><td>9.34171</td></tr>\n",
       "\t<tr><th scope=row>site9</th><td>44.3849</td><td>7.23181</td></tr>\n",
       "\t<tr><th scope=row>site10</th><td>47.1798</td><td>6.40932</td></tr>\n",
       "</tbody>\n",
       "</table>\n"
      ],
      "text/latex": [
       "\\begin{tabular}{r|ll}\n",
       "\tsite1 & 46.6944 & 5.45721\\\\\n",
       "\tsite2 & 47.5170 & 4.77654\\\\\n",
       "\tsite3 & 46.3779 & 5.61907\\\\\n",
       "\tsite4 & 46.1197 & 5.81690\\\\\n",
       "\tsite5 & 45.9239 & 5.99188\\\\\n",
       "\tsite6 & 47.0726 & 5.07012\\\\\n",
       "\tsite7 & 47.0714 & 5.08115\\\\\n",
       "\tsite8 & 41.8169 & 9.34171\\\\\n",
       "\tsite9 & 44.3849 & 7.23181\\\\\n",
       "\tsite10 & 47.1798 & 6.40932\\\\\n",
       "\\end{tabular}\n"
      ],
      "text/markdown": [
       "\n",
       "| site1 | 46.6944 | 5.45721 | \n",
       "| site2 | 47.5170 | 4.77654 | \n",
       "| site3 | 46.3779 | 5.61907 | \n",
       "| site4 | 46.1197 | 5.81690 | \n",
       "| site5 | 45.9239 | 5.99188 | \n",
       "| site6 | 47.0726 | 5.07012 | \n",
       "| site7 | 47.0714 | 5.08115 | \n",
       "| site8 | 41.8169 | 9.34171 | \n",
       "| site9 | 44.3849 | 7.23181 | \n",
       "| site10 | 47.1798 | 6.40932 | \n",
       "\n",
       "\n"
      ],
      "text/plain": [
       "       [,1]    [,2]   \n",
       "site1  46.6944 5.45721\n",
       "site2  47.5170 4.77654\n",
       "site3  46.3779 5.61907\n",
       "site4  46.1197 5.81690\n",
       "site5  45.9239 5.99188\n",
       "site6  47.0726 5.07012\n",
       "site7  47.0714 5.08115\n",
       "site8  41.8169 9.34171\n",
       "site9  44.3849 7.23181\n",
       "site10 47.1798 6.40932"
      ]
     },
     "metadata": {},
     "output_type": "display_data"
    }
   ],
   "source": [
    "print(data)\n",
    "procrust_var$translation\n",
    "procrust_var$X\n",
    "print(procrust_var$X[1,])\n",
    "procrust_var$Y[1,] = procrust_var$Y[1,] + procrust_var$translation\n",
    "procrust_var$Y[2,] = procrust_var$Y[2,] + procrust_var$translation\n",
    "procrust_var$Y[3,] = procrust_var$Y[3,] + procrust_var$translation\n",
    "procrust_var$Y[4,] = procrust_var$Y[4,] + procrust_var$translation\n",
    "procrust_var$Y[5,] = procrust_var$Y[5,] + procrust_var$translation\n",
    "procrust_var$Y[6,] = procrust_var$Y[6,] + procrust_var$translation\n",
    "procrust_var$Y[7,] = procrust_var$Y[7,] + procrust_var$translation\n",
    "procrust_var$Y[8,] = procrust_var$Y[8,] + procrust_var$translation\n",
    "procrust_var$Y[9,] = procrust_var$Y[9,] + procrust_var$translation\n",
    "procrust_var$Y[10,] = procrust_var$Y[10,] + procrust_var$translation\n",
    "procrust_var$Y"
   ]
  },
  {
   "cell_type": "code",
   "execution_count": 44,
   "metadata": {
    "collapsed": false
   },
   "outputs": [
    {
     "data": {
      "text/html": [
       "<dl class=dl-horizontal>\n",
       "\t<dt>site1</dt>\n",
       "\t\t<dd>46.6943760556158</dd>\n",
       "\t<dt>site2</dt>\n",
       "\t\t<dd>47.517045780012</dd>\n",
       "\t<dt>site3</dt>\n",
       "\t\t<dd>46.3779479586639</dd>\n",
       "\t<dt>site4</dt>\n",
       "\t\t<dd>46.1197101637435</dd>\n",
       "\t<dt>site5</dt>\n",
       "\t\t<dd>45.9238614690195</dd>\n",
       "\t<dt>site6</dt>\n",
       "\t\t<dd>47.0726218317961</dd>\n",
       "\t<dt>site7</dt>\n",
       "\t\t<dd>47.0713828417023</dd>\n",
       "\t<dt>site8</dt>\n",
       "\t\t<dd>41.8169092793071</dd>\n",
       "\t<dt>site9</dt>\n",
       "\t\t<dd>44.3848789509101</dd>\n",
       "\t<dt>site10</dt>\n",
       "\t\t<dd>47.1798126692287</dd>\n",
       "</dl>\n"
      ],
      "text/latex": [
       "\\begin{description*}\n",
       "\\item[site1] 46.6943760556158\n",
       "\\item[site2] 47.517045780012\n",
       "\\item[site3] 46.3779479586639\n",
       "\\item[site4] 46.1197101637435\n",
       "\\item[site5] 45.9238614690195\n",
       "\\item[site6] 47.0726218317961\n",
       "\\item[site7] 47.0713828417023\n",
       "\\item[site8] 41.8169092793071\n",
       "\\item[site9] 44.3848789509101\n",
       "\\item[site10] 47.1798126692287\n",
       "\\end{description*}\n"
      ],
      "text/markdown": [
       "site1\n",
       ":   46.6943760556158site2\n",
       ":   47.517045780012site3\n",
       ":   46.3779479586639site4\n",
       ":   46.1197101637435site5\n",
       ":   45.9238614690195site6\n",
       ":   47.0726218317961site7\n",
       ":   47.0713828417023site8\n",
       ":   41.8169092793071site9\n",
       ":   44.3848789509101site10\n",
       ":   47.1798126692287\n",
       "\n"
      ],
      "text/plain": [
       "  site1   site2   site3   site4   site5   site6   site7   site8   site9  site10 \n",
       "46.6944 47.5170 46.3779 46.1197 45.9239 47.0726 47.0714 41.8169 44.3849 47.1798 "
      ]
     },
     "metadata": {},
     "output_type": "display_data"
    }
   ],
   "source": [
    "procrust_var$Y[,1]"
   ]
  },
  {
   "cell_type": "code",
   "execution_count": 47,
   "metadata": {
    "collapsed": true
   },
   "outputs": [],
   "source": [
    "temp = procrust_var$Y[,2]\n",
    "procrust_var$Y[,2] = procrust_var$Y[,1]\n",
    "procrust_var$Y[,1] = temp"
   ]
  },
  {
   "cell_type": "code",
   "execution_count": 50,
   "metadata": {
    "collapsed": false
   },
   "outputs": [
    {
     "data": {
      "text/html": [
       "<table>\n",
       "<tbody>\n",
       "\t<tr><th scope=row>site1</th><td>5.45721</td><td>46.6944</td></tr>\n",
       "\t<tr><th scope=row>site2</th><td>4.77654</td><td>47.5170</td></tr>\n",
       "\t<tr><th scope=row>site3</th><td>5.61907</td><td>46.3779</td></tr>\n",
       "\t<tr><th scope=row>site4</th><td>5.81690</td><td>46.1197</td></tr>\n",
       "\t<tr><th scope=row>site5</th><td>5.99188</td><td>45.9239</td></tr>\n",
       "\t<tr><th scope=row>site6</th><td>5.07012</td><td>47.0726</td></tr>\n",
       "\t<tr><th scope=row>site7</th><td>5.08115</td><td>47.0714</td></tr>\n",
       "\t<tr><th scope=row>site8</th><td>9.34171</td><td>41.8169</td></tr>\n",
       "\t<tr><th scope=row>site9</th><td>7.23181</td><td>44.3849</td></tr>\n",
       "\t<tr><th scope=row>site10</th><td>6.40932</td><td>47.1798</td></tr>\n",
       "</tbody>\n",
       "</table>\n"
      ],
      "text/latex": [
       "\\begin{tabular}{r|ll}\n",
       "\tsite1 & 5.45721 & 46.6944\\\\\n",
       "\tsite2 & 4.77654 & 47.5170\\\\\n",
       "\tsite3 & 5.61907 & 46.3779\\\\\n",
       "\tsite4 & 5.81690 & 46.1197\\\\\n",
       "\tsite5 & 5.99188 & 45.9239\\\\\n",
       "\tsite6 & 5.07012 & 47.0726\\\\\n",
       "\tsite7 & 5.08115 & 47.0714\\\\\n",
       "\tsite8 & 9.34171 & 41.8169\\\\\n",
       "\tsite9 & 7.23181 & 44.3849\\\\\n",
       "\tsite10 & 6.40932 & 47.1798\\\\\n",
       "\\end{tabular}\n"
      ],
      "text/markdown": [
       "\n",
       "| site1 | 5.45721 | 46.6944 | \n",
       "| site2 | 4.77654 | 47.5170 | \n",
       "| site3 | 5.61907 | 46.3779 | \n",
       "| site4 | 5.81690 | 46.1197 | \n",
       "| site5 | 5.99188 | 45.9239 | \n",
       "| site6 | 5.07012 | 47.0726 | \n",
       "| site7 | 5.08115 | 47.0714 | \n",
       "| site8 | 9.34171 | 41.8169 | \n",
       "| site9 | 7.23181 | 44.3849 | \n",
       "| site10 | 6.40932 | 47.1798 | \n",
       "\n",
       "\n"
      ],
      "text/plain": [
       "       [,1]    [,2]   \n",
       "site1  5.45721 46.6944\n",
       "site2  4.77654 47.5170\n",
       "site3  5.61907 46.3779\n",
       "site4  5.81690 46.1197\n",
       "site5  5.99188 45.9239\n",
       "site6  5.07012 47.0726\n",
       "site7  5.08115 47.0714\n",
       "site8  9.34171 41.8169\n",
       "site9  7.23181 44.3849\n",
       "site10 6.40932 47.1798"
      ]
     },
     "metadata": {},
     "output_type": "display_data"
    }
   ],
   "source": [
    "procrust_var$Y"
   ]
  },
  {
   "cell_type": "code",
   "execution_count": 51,
   "metadata": {
    "collapsed": false
   },
   "outputs": [
    {
     "data": {
      "image/png": "[encoded data removed]",
      "text/plain": [
       "plot without title"
      ]
     },
     "metadata": {},
     "output_type": "display_data"
    }
   ],
   "source": [
    "plot(data$longitude, data$latitude)\n",
    "points(procrust_var$Y, col=\"red\")"
   ]
  },
  {
   "cell_type": "code",
   "execution_count": null,
   "metadata": {
    "collapsed": true
   },
   "outputs": [],
   "source": []
  },
  {
   "cell_type": "code",
   "execution_count": null,
   "metadata": {
    "collapsed": true
   },
   "outputs": [],
   "source": []
  },
  {
   "cell_type": "code",
   "execution_count": null,
   "metadata": {
    "collapsed": true
   },
   "outputs": [],
   "source": []
  },
  {
   "cell_type": "code",
   "execution_count": null,
   "metadata": {
    "collapsed": true
   },
   "outputs": [],
   "source": []
  },
  {
   "cell_type": "code",
   "execution_count": null,
   "metadata": {
    "collapsed": true
   },
   "outputs": [],
   "source": []
  },
  {
   "cell_type": "code",
   "execution_count": null,
   "metadata": {
    "collapsed": true
   },
   "outputs": [],
   "source": []
  },
  {
   "cell_type": "code",
   "execution_count": null,
   "metadata": {
    "collapsed": true
   },
   "outputs": [],
   "source": []
  }
 ],
 "metadata": {
  "kernelspec": {
   "display_name": "R",
   "language": "R",
   "name": "ir"
  },
  "language_info": {
   "codemirror_mode": "r",
   "file_extension": ".r",
   "mimetype": "text/x-r-source",
   "name": "R",
   "pygments_lexer": "r",
   "version": "3.4.2"
  }
 },
 "nbformat": 4,
 "nbformat_minor": 2
}
